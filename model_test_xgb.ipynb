{
 "cells": [
  {
   "cell_type": "code",
   "execution_count": 55,
   "id": "361b0e16",
   "metadata": {},
   "outputs": [],
   "source": [
    "# 모델 분석에 필요한 라이브러리 import\n",
    "\n",
    "import numpy as np\n",
    "import pandas as pd\n",
    "import matplotlib.pyplot as plt\n",
    "import seaborn as sns\n",
    "\n",
    "from matplotlib import rcParams\n",
    "import platform\n",
    "\n",
    "from sklearn.preprocessing import StandardScaler\n",
    "from sklearn.model_selection import train_test_split\n",
    "from sklearn.ensemble import IsolationForest\n",
    "\n",
    "# 모듈로 구현한 데이터 분석용 클래스 import \n",
    "from modules.DataAnalysis import DataCheck\n",
    "from modules.DataAnalysis import DataPreprocessing\n",
    "from modules.DataAnalysis import DataVisualize\n",
    "import modules.DataModify as DataModify"
   ]
  },
  {
   "cell_type": "code",
   "execution_count": 56,
   "id": "0b97f50e",
   "metadata": {},
   "outputs": [],
   "source": [
    "### 데이터 로드\n",
    "\n",
    "input_file_path = './data/Tree_data.csv'\n",
    "\n",
    "df = pd.read_csv(input_file_path)\n",
    "\n",
    "### 객체 인스턴스 생성\n",
    "dc = DataCheck(df)\n",
    "dp = DataPreprocessing(df)\n",
    "dv = DataVisualize(df)"
   ]
  },
  {
   "cell_type": "code",
   "execution_count": 57,
   "id": "dc3e32ac",
   "metadata": {},
   "outputs": [],
   "source": [
    "drop_cols = ['No', 'Plot', 'Adult', 'Subplot', 'Core', 'Census', 'Time']\n",
    "dp.set_drop_cols(drop_cols)"
   ]
  },
  {
   "cell_type": "code",
   "execution_count": 58,
   "id": "7f46b1b7",
   "metadata": {},
   "outputs": [],
   "source": [
    "encode = dp.run(encoding='label', return_anomaly=False)"
   ]
  },
  {
   "cell_type": "code",
   "execution_count": 59,
   "id": "36941f8b",
   "metadata": {},
   "outputs": [
    {
     "name": "stdout",
     "output_type": "stream",
     "text": [
      "Alive\n",
      "0    1812\n",
      "1     554\n",
      "Name: count, dtype: int64\n"
     ]
    }
   ],
   "source": [
    "alive_data = encode[encode['Alive'] != 1]\n",
    "censored_data = encode[encode['Alive'] == 1]\n",
    "\n",
    "train_set, test_set = DataModify.train_test_split_ignore_censored(alive_data, censored_data)\n",
    "\n",
    "# (train_set[0] : X_train, train_set[1] : y_train, test_set[0] : X_test, test_set[1] : y_test)\n",
    "\n",
    "print(train_set[1].value_counts())"
   ]
  },
  {
   "cell_type": "code",
   "execution_count": 60,
   "id": "cce9d4dc",
   "metadata": {},
   "outputs": [
    {
     "name": "stdout",
     "output_type": "stream",
     "text": [
      "0.8431952662721893\n",
      "0.8317307692307693\n",
      "[[284  28]\n",
      " [ 42  62]]\n",
      "              precision    recall  f1-score   support\n",
      "\n",
      "           0       0.87      0.91      0.89       312\n",
      "           1       0.69      0.60      0.64       104\n",
      "\n",
      "    accuracy                           0.83       416\n",
      "   macro avg       0.78      0.75      0.76       416\n",
      "weighted avg       0.83      0.83      0.83       416\n",
      "\n"
     ]
    }
   ],
   "source": [
    "# XGBoost\n",
    "from sklearn.metrics import accuracy_score, classification_report, confusion_matrix\n",
    "from xgboost import XGBClassifier\n",
    "\n",
    "X_train, y_train = train_set\n",
    "X_test, y_test = test_set\n",
    "\n",
    "# y_train 처리\n",
    "if isinstance(y_train, pd.DataFrame):\n",
    "    y_train = y_train.iloc[:, 0]  \n",
    "y_train = y_train.values.ravel()\n",
    "y_train = y_train.astype(int)\n",
    "\n",
    "# y_test 처리\n",
    "if isinstance(y_test, pd.DataFrame):\n",
    "    y_test = y_test.iloc[:, 0] \n",
    "y_test = y_test.values.ravel()\n",
    "y_test = y_test.astype(int)\n",
    "\n",
    "# XGB 모델 생성\n",
    "xgb_clf = XGBClassifier(\n",
    "    n_estimators=100,\n",
    "    max_depth=3,\n",
    "    learning_rate=0.1,\n",
    "    random_state=42, \n",
    "    enable_categorical=True \n",
    ")\n",
    "\n",
    "xgb_clf.fit(X_train, y_train)\n",
    "\n",
    "y_pred_train = xgb_clf.predict(X_train)\n",
    "y_pred_test = xgb_clf.predict(X_test)\n",
    "\n",
    "# 정확도\n",
    "print(accuracy_score(y_train, y_pred_train))\n",
    "print(accuracy_score(y_test, y_pred_test))\n",
    "\n",
    "# 혼동 행렬\n",
    "print(confusion_matrix(y_test, y_pred_test)) \n",
    "print(classification_report(y_test, y_pred_test)) \n"
   ]
  },
  {
   "cell_type": "code",
   "execution_count": 61,
   "id": "ddd62325",
   "metadata": {},
   "outputs": [
    {
     "name": "stdout",
     "output_type": "stream",
     "text": [
      "[0]\tvalidation_0-logloss:0.52215\tvalidation_1-logloss:0.52899\n",
      "[1]\tvalidation_0-logloss:0.50430\tvalidation_1-logloss:0.50111\n",
      "[2]\tvalidation_0-logloss:0.48987\tvalidation_1-logloss:0.47778\n",
      "[3]\tvalidation_0-logloss:0.47753\tvalidation_1-logloss:0.45792\n",
      "[4]\tvalidation_0-logloss:0.46662\tvalidation_1-logloss:0.44054\n",
      "[5]\tvalidation_0-logloss:0.45807\tvalidation_1-logloss:0.42580\n",
      "[6]\tvalidation_0-logloss:0.44997\tvalidation_1-logloss:0.41273\n",
      "[7]\tvalidation_0-logloss:0.44349\tvalidation_1-logloss:0.40106\n",
      "[8]\tvalidation_0-logloss:0.43782\tvalidation_1-logloss:0.39096\n",
      "[9]\tvalidation_0-logloss:0.43280\tvalidation_1-logloss:0.38221\n",
      "[10]\tvalidation_0-logloss:0.42826\tvalidation_1-logloss:0.37434\n",
      "[11]\tvalidation_0-logloss:0.42441\tvalidation_1-logloss:0.36723\n",
      "[12]\tvalidation_0-logloss:0.42120\tvalidation_1-logloss:0.36089\n",
      "[13]\tvalidation_0-logloss:0.41810\tvalidation_1-logloss:0.35558\n",
      "[14]\tvalidation_0-logloss:0.41522\tvalidation_1-logloss:0.35127\n",
      "[15]\tvalidation_0-logloss:0.41252\tvalidation_1-logloss:0.34722\n",
      "[16]\tvalidation_0-logloss:0.41026\tvalidation_1-logloss:0.34311\n",
      "[17]\tvalidation_0-logloss:0.40833\tvalidation_1-logloss:0.33981\n",
      "[18]\tvalidation_0-logloss:0.40656\tvalidation_1-logloss:0.33645\n",
      "[19]\tvalidation_0-logloss:0.40468\tvalidation_1-logloss:0.33398\n",
      "[20]\tvalidation_0-logloss:0.40321\tvalidation_1-logloss:0.33171\n",
      "[21]\tvalidation_0-logloss:0.40197\tvalidation_1-logloss:0.32956\n",
      "[22]\tvalidation_0-logloss:0.40070\tvalidation_1-logloss:0.32766\n",
      "[23]\tvalidation_0-logloss:0.39944\tvalidation_1-logloss:0.32495\n",
      "[24]\tvalidation_0-logloss:0.39818\tvalidation_1-logloss:0.32352\n",
      "[25]\tvalidation_0-logloss:0.39703\tvalidation_1-logloss:0.32186\n",
      "[26]\tvalidation_0-logloss:0.39610\tvalidation_1-logloss:0.32057\n",
      "[27]\tvalidation_0-logloss:0.39446\tvalidation_1-logloss:0.31971\n",
      "[28]\tvalidation_0-logloss:0.39349\tvalidation_1-logloss:0.31867\n",
      "[29]\tvalidation_0-logloss:0.39264\tvalidation_1-logloss:0.31771\n",
      "[30]\tvalidation_0-logloss:0.39158\tvalidation_1-logloss:0.31746\n",
      "[31]\tvalidation_0-logloss:0.39053\tvalidation_1-logloss:0.31640\n",
      "[32]\tvalidation_0-logloss:0.38984\tvalidation_1-logloss:0.31569\n",
      "[33]\tvalidation_0-logloss:0.38860\tvalidation_1-logloss:0.31521\n",
      "[34]\tvalidation_0-logloss:0.38774\tvalidation_1-logloss:0.31508\n",
      "[35]\tvalidation_0-logloss:0.38715\tvalidation_1-logloss:0.31439\n",
      "[36]\tvalidation_0-logloss:0.38678\tvalidation_1-logloss:0.31396\n",
      "[37]\tvalidation_0-logloss:0.38614\tvalidation_1-logloss:0.31354\n",
      "[38]\tvalidation_0-logloss:0.38565\tvalidation_1-logloss:0.31301\n",
      "[39]\tvalidation_0-logloss:0.38509\tvalidation_1-logloss:0.31261\n",
      "[40]\tvalidation_0-logloss:0.38476\tvalidation_1-logloss:0.31271\n",
      "[41]\tvalidation_0-logloss:0.38383\tvalidation_1-logloss:0.31264\n",
      "[42]\tvalidation_0-logloss:0.38340\tvalidation_1-logloss:0.31262\n",
      "[43]\tvalidation_0-logloss:0.38304\tvalidation_1-logloss:0.31240\n",
      "[44]\tvalidation_0-logloss:0.38223\tvalidation_1-logloss:0.31243\n",
      "[45]\tvalidation_0-logloss:0.38185\tvalidation_1-logloss:0.31242\n",
      "[46]\tvalidation_0-logloss:0.38125\tvalidation_1-logloss:0.31210\n",
      "[47]\tvalidation_0-logloss:0.38077\tvalidation_1-logloss:0.31165\n",
      "[48]\tvalidation_0-logloss:0.38000\tvalidation_1-logloss:0.31149\n",
      "[49]\tvalidation_0-logloss:0.37967\tvalidation_1-logloss:0.31149\n",
      "[50]\tvalidation_0-logloss:0.37931\tvalidation_1-logloss:0.31090\n",
      "[51]\tvalidation_0-logloss:0.37862\tvalidation_1-logloss:0.31084\n",
      "[52]\tvalidation_0-logloss:0.37814\tvalidation_1-logloss:0.31091\n",
      "[53]\tvalidation_0-logloss:0.37784\tvalidation_1-logloss:0.31086\n",
      "[54]\tvalidation_0-logloss:0.37671\tvalidation_1-logloss:0.31166\n",
      "[55]\tvalidation_0-logloss:0.37562\tvalidation_1-logloss:0.31130\n",
      "[56]\tvalidation_0-logloss:0.37502\tvalidation_1-logloss:0.31105\n",
      "[57]\tvalidation_0-logloss:0.37449\tvalidation_1-logloss:0.31105\n",
      "[58]\tvalidation_0-logloss:0.37420\tvalidation_1-logloss:0.31105\n",
      "[59]\tvalidation_0-logloss:0.37340\tvalidation_1-logloss:0.31032\n",
      "[60]\tvalidation_0-logloss:0.37230\tvalidation_1-logloss:0.31017\n",
      "[61]\tvalidation_0-logloss:0.37161\tvalidation_1-logloss:0.30928\n",
      "[62]\tvalidation_0-logloss:0.37089\tvalidation_1-logloss:0.30908\n",
      "[63]\tvalidation_0-logloss:0.37006\tvalidation_1-logloss:0.30848\n",
      "[64]\tvalidation_0-logloss:0.36983\tvalidation_1-logloss:0.30844\n",
      "[65]\tvalidation_0-logloss:0.36947\tvalidation_1-logloss:0.30866\n",
      "[66]\tvalidation_0-logloss:0.36905\tvalidation_1-logloss:0.30854\n",
      "[67]\tvalidation_0-logloss:0.36872\tvalidation_1-logloss:0.30857\n",
      "[68]\tvalidation_0-logloss:0.36834\tvalidation_1-logloss:0.30866\n",
      "[69]\tvalidation_0-logloss:0.36801\tvalidation_1-logloss:0.30848\n",
      "[70]\tvalidation_0-logloss:0.36759\tvalidation_1-logloss:0.30853\n",
      "[71]\tvalidation_0-logloss:0.36683\tvalidation_1-logloss:0.30851\n",
      "[72]\tvalidation_0-logloss:0.36629\tvalidation_1-logloss:0.30854\n",
      "[73]\tvalidation_0-logloss:0.36529\tvalidation_1-logloss:0.30843\n",
      "[74]\tvalidation_0-logloss:0.36491\tvalidation_1-logloss:0.30826\n",
      "[75]\tvalidation_0-logloss:0.36430\tvalidation_1-logloss:0.30765\n",
      "[76]\tvalidation_0-logloss:0.36410\tvalidation_1-logloss:0.30766\n",
      "[77]\tvalidation_0-logloss:0.36344\tvalidation_1-logloss:0.30701\n",
      "[78]\tvalidation_0-logloss:0.36291\tvalidation_1-logloss:0.30652\n",
      "[79]\tvalidation_0-logloss:0.36255\tvalidation_1-logloss:0.30649\n",
      "[80]\tvalidation_0-logloss:0.36232\tvalidation_1-logloss:0.30646\n",
      "[81]\tvalidation_0-logloss:0.36194\tvalidation_1-logloss:0.30649\n",
      "[82]\tvalidation_0-logloss:0.36138\tvalidation_1-logloss:0.30675\n",
      "[83]\tvalidation_0-logloss:0.36090\tvalidation_1-logloss:0.30640\n",
      "[84]\tvalidation_0-logloss:0.36007\tvalidation_1-logloss:0.30650\n",
      "[85]\tvalidation_0-logloss:0.35950\tvalidation_1-logloss:0.30634\n",
      "[86]\tvalidation_0-logloss:0.35926\tvalidation_1-logloss:0.30628\n",
      "[87]\tvalidation_0-logloss:0.35882\tvalidation_1-logloss:0.30610\n",
      "[88]\tvalidation_0-logloss:0.35853\tvalidation_1-logloss:0.30612\n",
      "[89]\tvalidation_0-logloss:0.35812\tvalidation_1-logloss:0.30610\n",
      "[90]\tvalidation_0-logloss:0.35743\tvalidation_1-logloss:0.30585\n",
      "[91]\tvalidation_0-logloss:0.35722\tvalidation_1-logloss:0.30586\n",
      "[92]\tvalidation_0-logloss:0.35690\tvalidation_1-logloss:0.30589\n",
      "[93]\tvalidation_0-logloss:0.35628\tvalidation_1-logloss:0.30592\n",
      "[94]\tvalidation_0-logloss:0.35531\tvalidation_1-logloss:0.30526\n",
      "[95]\tvalidation_0-logloss:0.35474\tvalidation_1-logloss:0.30503\n",
      "[96]\tvalidation_0-logloss:0.35405\tvalidation_1-logloss:0.30500\n",
      "[97]\tvalidation_0-logloss:0.35357\tvalidation_1-logloss:0.30493\n",
      "[98]\tvalidation_0-logloss:0.35293\tvalidation_1-logloss:0.30488\n",
      "[99]\tvalidation_0-logloss:0.35237\tvalidation_1-logloss:0.30497\n"
     ]
    },
    {
     "data": {
      "image/png": "[encoded data removed]",
      "text/plain": [
       "<Figure size 640x480 with 1 Axes>"
      ]
     },
     "metadata": {},
     "output_type": "display_data"
    }
   ],
   "source": [
    "# 학습 곡선\n",
    "eval_set = [(X_train, y_train), ([X_test, y_test])]\n",
    "\n",
    "xgb_clf.fit(X_train, y_train, eval_set=eval_set, verbose=True)\n",
    "\n",
    "result = xgb_clf.evals_result() \n",
    "\n",
    "train_loss = result['validation_0']['logloss'] \n",
    "val_loss = result['validation_1']['logloss'] \n",
    "\n",
    "plt.plot(train_loss, label='train')\n",
    "plt.plot(val_loss, label='validation')\n",
    "plt.xlabel('nth round')\n",
    "plt.ylabel('logloss')\n",
    "plt.legend()\n",
    "plt.show()\n"
   ]
  },
  {
   "cell_type": "code",
   "execution_count": 62,
   "id": "df29fb36",
   "metadata": {},
   "outputs": [
    {
     "data": {
      "text/plain": [
       "<function matplotlib.pyplot.show(close=None, block=None)>"
      ]
     },
     "execution_count": 62,
     "metadata": {},
     "output_type": "execute_result"
    },
    {
     "data": {
      "image/png": "[encoded data removed]",
      "text/plain": [
       "<Figure size 1000x1200 with 1 Axes>"
      ]
     },
     "metadata": {},
     "output_type": "display_data"
    }
   ],
   "source": [
    "# 중요도\n",
    "from xgboost import plot_importance\n",
    "\n",
    "fig, ax = plt.subplots(figsize=(10,12)) \n",
    "plot_importance(xgb_clf, ax=ax) \n",
    "plt.show\n"
   ]
  },
  {
   "cell_type": "code",
   "execution_count": 66,
   "id": "9f9bb1ed",
   "metadata": {},
   "outputs": [
    {
     "name": "stdout",
     "output_type": "stream",
     "text": [
      "<class 'pandas.core.frame.DataFrame'>\n",
      "<class 'numpy.ndarray'>\n"
     ]
    }
   ],
   "source": [
    "print(type(X_train))\n",
    "print(type(y_train))"
   ]
  },
  {
   "cell_type": "code",
   "execution_count": 67,
   "id": "b74e006f",
   "metadata": {},
   "outputs": [
    {
     "name": "stdout",
     "output_type": "stream",
     "text": [
      "(array([0, 1]), array([1453,  439]))\n",
      "(array([0, 1]), array([359, 115]))\n",
      "==================================\n",
      "(array([0, 1]), array([1448,  445]))\n",
      "(array([0, 1]), array([364, 109]))\n",
      "==================================\n",
      "(array([0, 1]), array([1443,  450]))\n",
      "(array([0, 1]), array([369, 104]))\n",
      "==================================\n",
      "(array([0, 1]), array([1441,  452]))\n",
      "(array([0, 1]), array([371, 102]))\n",
      "==================================\n",
      "(array([0, 1]), array([1463,  430]))\n",
      "(array([0, 1]), array([349, 124]))\n",
      "==================================\n",
      "훈련별 정확도: [0.759493670886076, 0.7632135306553911, 0.7822410147991543, 0.7843551797040169, 0.7780126849894292]\n",
      "분류모델 평균 정확도: 0.7734632162068135\n"
     ]
    }
   ],
   "source": [
    "# KFold\n",
    "from sklearn.model_selection import KFold\n",
    "\n",
    "kfold = KFold(n_splits=5, shuffle=True, random_state=42)\n",
    "\n",
    "cv_accuracy = []\n",
    "\n",
    "X = X_train.copy()\n",
    "y = y_train.copy()\n",
    "\n",
    "for train_index, val_index in kfold.split(X):\n",
    "     \n",
    "    X_tr = X.iloc[train_index]       \n",
    "    X_val = X.iloc[val_index]\n",
    "    \n",
    "    y_tr = y[train_index]            \n",
    "    y_val = y[val_index]\n",
    "\n",
    "    print(np.unique(y_tr, return_counts=True))\n",
    "    print(np.unique(y_val, return_counts=True))\n",
    "    print('==================================')\n",
    "\n",
    "    xgb_clf.fit(X_tr, y_tr)\n",
    "    y_pred = xgb_clf.predict(X_val)\n",
    "    acc_score = accuracy_score(y_val, y_pred)\n",
    "    cv_accuracy.append(acc_score)\n",
    "\n",
    "# 결과 출력\n",
    "print(\"훈련별 정확도:\", cv_accuracy)\n",
    "print(\"분류모델 평균 정확도:\", np.mean(cv_accuracy))"
   ]
  },
  {
   "cell_type": "markdown",
   "id": "393ff64f",
   "metadata": {},
   "source": []
  },
  {
   "cell_type": "code",
   "execution_count": 71,
   "id": "4fbb7693",
   "metadata": {},
   "outputs": [
    {
     "name": "stdout",
     "output_type": "stream",
     "text": [
      "최적의 파라미터: {'enable_categorical': True, 'learning_rate': np.float64(0.04), 'max_depth': 2, 'n_estimators': 900}\n",
      "최적화된 모델 객체: XGBClassifier(base_score=None, booster=None, callbacks=None,\n",
      "              colsample_bylevel=None, colsample_bynode=None,\n",
      "              colsample_bytree=None, device=None, early_stopping_rounds=None,\n",
      "              enable_categorical=True, eval_metric=None, feature_types=None,\n",
      "              feature_weights=None, gamma=None, grow_policy=None,\n",
      "              importance_type=None, interaction_constraints=None,\n",
      "              learning_rate=np.float64(0.04), max_bin=None,\n",
      "              max_cat_threshold=None, max_cat_to_onehot=None,\n",
      "              max_delta_step=None, max_depth=2, max_leaves=None,\n",
      "              min_child_weight=None, missing=nan, monotone_constraints=None,\n",
      "              multi_strategy=None, n_estimators=900, n_jobs=None,\n",
      "              num_parallel_tree=None, ...)\n",
      "최적화된 점수: 0.779360576622867\n"
     ]
    }
   ],
   "source": [
    "# GridSearchCV\n",
    "from sklearn.model_selection import GridSearchCV\n",
    "\n",
    "params = { \n",
    "    'n_estimators' : range(100, 1000, 100),\n",
    "    'max_depth' : range(1, 10, 1),\n",
    "    'learning_rate' : np.arange(0.01, 0.1, 0.01), \n",
    "    'enable_categorical' : [True, False] \n",
    "}\n",
    "\n",
    "grid = GridSearchCV(xgb_clf, params, scoring=\"accuracy\", cv=5)\n",
    "\n",
    "grid.fit(X_train, y_train)\n",
    "\n",
    "print('최적의 파라미터:', grid.best_params_) \n",
    "print('최적화된 모델 객체:', grid.best_estimator_) \n",
    "print('최적화된 점수:', grid.best_score_) "
   ]
  },
  {
   "cell_type": "code",
   "execution_count": 72,
   "id": "1f22029e",
   "metadata": {},
   "outputs": [
    {
     "name": "stdout",
     "output_type": "stream",
     "text": [
      "0.8558748943364328\n",
      "0.8389423076923077\n"
     ]
    }
   ],
   "source": [
    "# 최적의 파라미터: {'enable_categorical': True, 'learning_rate': np.float64(0.04), 'max_depth': 2, 'n_estimators': 900}\n",
    "\n",
    "xgb_grid = XGBClassifier(\n",
    "    n_estimators=900,\n",
    "    max_depth=2,\n",
    "    learning_rate=0.04,\n",
    "    random_state=42, \n",
    "    enable_categorical=True \n",
    ")\n",
    "\n",
    "xgb_grid.fit(X_train, y_train)\n",
    "\n",
    "y_pred_train = xgb_grid.predict(X_train)\n",
    "y_pred_test = xgb_grid.predict(X_test)\n",
    "\n",
    "# 정확도\n",
    "print(accuracy_score(y_train, y_pred_train))\n",
    "print(accuracy_score(y_test, y_pred_test))\n"
   ]
  }
 ],
 "metadata": {
  "kernelspec": {
   "display_name": "ml_env",
   "language": "python",
   "name": "python3"
  },
  "language_info": {
   "codemirror_mode": {
    "name": "ipython",
    "version": 3
   },
   "file_extension": ".py",
   "mimetype": "text/x-python",
   "name": "python",
   "nbconvert_exporter": "python",
   "pygments_lexer": "ipython3",
   "version": "3.12.11"
  }
 },
 "nbformat": 4,
 "nbformat_minor": 5
}
