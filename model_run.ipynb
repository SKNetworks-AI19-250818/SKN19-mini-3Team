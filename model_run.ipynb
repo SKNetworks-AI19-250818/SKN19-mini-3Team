{
 "cells": [
  {
   "cell_type": "code",
   "execution_count": 39,
   "id": "b64bdf18",
   "metadata": {},
   "outputs": [],
   "source": [
    "# ! pip install scikit-survival"
   ]
  },
  {
   "cell_type": "code",
   "execution_count": 40,
   "id": "1f028d6b",
   "metadata": {},
   "outputs": [],
   "source": [
    "import numpy as np\n",
    "import pandas as pd\n",
    "import matplotlib.pyplot as plt\n",
    "import seaborn as sns\n",
    "\n",
    "from matplotlib import rcParams\n",
    "import platform\n",
    "\n",
    "from sklearn.preprocessing import StandardScaler\n",
    "from sklearn.model_selection import train_test_split\n",
    "from sklearn.ensemble import IsolationForest\n",
    "\n",
    "from sklearn.model_selection import KFold\n",
    "\n",
    "# 모듈로 구현한 데이터 분석용 클래스 import \n",
    "from modules.DataAnalysis import DataCheck\n",
    "from modules.DataAnalysis import DataPreprocessing\n",
    "from modules.DataAnalysis import DataVisualize\n",
    "\n",
    "import modules.DataModify as DataModify\n",
    "\n",
    "# 모듈로 구현한 머신러닝 모델 import\n",
    "from modules.TreeModels import TreeXGBoostCox\n",
    "from modules.TreeModels import TreeRandomForestSurvival\n",
    "import modules.ModelAnalysis as ModelAnalysis\n"
   ]
  },
  {
   "cell_type": "code",
   "execution_count": 41,
   "id": "2777c148",
   "metadata": {},
   "outputs": [],
   "source": [
    "import warnings\n",
    "\n",
    "warnings.filterwarnings('ignore')"
   ]
  },
  {
   "cell_type": "code",
   "execution_count": 42,
   "id": "9db3c06f",
   "metadata": {},
   "outputs": [],
   "source": [
    "### matplotlib 에서 한글 및 음수 표현이 깨지는 현상 수정\n",
    "\n",
    "system = platform.system()\n",
    "\n",
    "if system == \"Windows\":     # Windows\n",
    "    rcParams['font.family'] = 'Malgun Gothic'\n",
    "elif system == \"Darwin\":    # macOS\n",
    "    rcParams['font.family'] = 'AppleGothic'\n",
    "\n",
    "rcParams['axes.unicode_minus'] = False"
   ]
  },
  {
   "cell_type": "code",
   "execution_count": 43,
   "id": "840541ff",
   "metadata": {},
   "outputs": [],
   "source": [
    "### 데이터 로드\n",
    "\n",
    "input_file_path = './data/Tree_data.csv'\n",
    "\n",
    "df = pd.read_csv(input_file_path)\n",
    "\n",
    "### 전처리를 위한 객체 인스턴스 생성\n",
    "dp = DataPreprocessing(df)"
   ]
  },
  {
   "cell_type": "code",
   "execution_count": 44,
   "id": "ae54e290",
   "metadata": {},
   "outputs": [
    {
     "data": {
      "text/html": [
       "<div>\n",
       "<style scoped>\n",
       "    .dataframe tbody tr th:only-of-type {\n",
       "        vertical-align: middle;\n",
       "    }\n",
       "\n",
       "    .dataframe tbody tr th {\n",
       "        vertical-align: top;\n",
       "    }\n",
       "\n",
       "    .dataframe thead th {\n",
       "        text-align: right;\n",
       "    }\n",
       "</style>\n",
       "<table border=\"1\" class=\"dataframe\">\n",
       "  <thead>\n",
       "    <tr style=\"text-align: right;\">\n",
       "      <th></th>\n",
       "      <th>Species</th>\n",
       "      <th>Light_ISF</th>\n",
       "      <th>Light_Cat</th>\n",
       "      <th>Soil</th>\n",
       "      <th>Sterile</th>\n",
       "      <th>Conspecific</th>\n",
       "      <th>Myco</th>\n",
       "      <th>SoilMyco</th>\n",
       "      <th>PlantDate</th>\n",
       "      <th>AMF</th>\n",
       "      <th>EMF</th>\n",
       "      <th>Phenolics</th>\n",
       "      <th>Lignin</th>\n",
       "      <th>NSC</th>\n",
       "      <th>Time</th>\n",
       "      <th>Alive</th>\n",
       "    </tr>\n",
       "  </thead>\n",
       "  <tbody>\n",
       "    <tr>\n",
       "      <th>0</th>\n",
       "      <td>0</td>\n",
       "      <td>0.106</td>\n",
       "      <td>0</td>\n",
       "      <td>0</td>\n",
       "      <td>0</td>\n",
       "      <td>0</td>\n",
       "      <td>0</td>\n",
       "      <td>0</td>\n",
       "      <td>0</td>\n",
       "      <td>22.00</td>\n",
       "      <td>0.00</td>\n",
       "      <td>0.79</td>\n",
       "      <td>13.86</td>\n",
       "      <td>12.15</td>\n",
       "      <td>14.0</td>\n",
       "      <td>0</td>\n",
       "    </tr>\n",
       "    <tr>\n",
       "      <th>1</th>\n",
       "      <td>1</td>\n",
       "      <td>0.106</td>\n",
       "      <td>0</td>\n",
       "      <td>1</td>\n",
       "      <td>0</td>\n",
       "      <td>0</td>\n",
       "      <td>1</td>\n",
       "      <td>1</td>\n",
       "      <td>1</td>\n",
       "      <td>15.82</td>\n",
       "      <td>31.07</td>\n",
       "      <td>6.54</td>\n",
       "      <td>20.52</td>\n",
       "      <td>19.29</td>\n",
       "      <td>115.5</td>\n",
       "      <td>2</td>\n",
       "    </tr>\n",
       "    <tr>\n",
       "      <th>2</th>\n",
       "      <td>2</td>\n",
       "      <td>0.106</td>\n",
       "      <td>0</td>\n",
       "      <td>0</td>\n",
       "      <td>0</td>\n",
       "      <td>0</td>\n",
       "      <td>1</td>\n",
       "      <td>0</td>\n",
       "      <td>1</td>\n",
       "      <td>24.45</td>\n",
       "      <td>28.19</td>\n",
       "      <td>4.71</td>\n",
       "      <td>24.74</td>\n",
       "      <td>15.01</td>\n",
       "      <td>63.0</td>\n",
       "      <td>0</td>\n",
       "    </tr>\n",
       "    <tr>\n",
       "      <th>3</th>\n",
       "      <td>0</td>\n",
       "      <td>0.080</td>\n",
       "      <td>0</td>\n",
       "      <td>0</td>\n",
       "      <td>0</td>\n",
       "      <td>0</td>\n",
       "      <td>0</td>\n",
       "      <td>0</td>\n",
       "      <td>0</td>\n",
       "      <td>22.23</td>\n",
       "      <td>0.00</td>\n",
       "      <td>0.64</td>\n",
       "      <td>14.29</td>\n",
       "      <td>12.36</td>\n",
       "      <td>14.0</td>\n",
       "      <td>0</td>\n",
       "    </tr>\n",
       "    <tr>\n",
       "      <th>4</th>\n",
       "      <td>0</td>\n",
       "      <td>0.060</td>\n",
       "      <td>1</td>\n",
       "      <td>0</td>\n",
       "      <td>0</td>\n",
       "      <td>0</td>\n",
       "      <td>0</td>\n",
       "      <td>0</td>\n",
       "      <td>0</td>\n",
       "      <td>21.15</td>\n",
       "      <td>0.00</td>\n",
       "      <td>0.77</td>\n",
       "      <td>10.85</td>\n",
       "      <td>11.20</td>\n",
       "      <td>14.0</td>\n",
       "      <td>0</td>\n",
       "    </tr>\n",
       "    <tr>\n",
       "      <th>...</th>\n",
       "      <td>...</td>\n",
       "      <td>...</td>\n",
       "      <td>...</td>\n",
       "      <td>...</td>\n",
       "      <td>...</td>\n",
       "      <td>...</td>\n",
       "      <td>...</td>\n",
       "      <td>...</td>\n",
       "      <td>...</td>\n",
       "      <td>...</td>\n",
       "      <td>...</td>\n",
       "      <td>...</td>\n",
       "      <td>...</td>\n",
       "      <td>...</td>\n",
       "      <td>...</td>\n",
       "      <td>...</td>\n",
       "    </tr>\n",
       "    <tr>\n",
       "      <th>2777</th>\n",
       "      <td>1</td>\n",
       "      <td>0.122</td>\n",
       "      <td>2</td>\n",
       "      <td>1</td>\n",
       "      <td>0</td>\n",
       "      <td>0</td>\n",
       "      <td>1</td>\n",
       "      <td>1</td>\n",
       "      <td>1</td>\n",
       "      <td>10.89</td>\n",
       "      <td>39.00</td>\n",
       "      <td>6.88</td>\n",
       "      <td>21.44</td>\n",
       "      <td>18.99</td>\n",
       "      <td>56.0</td>\n",
       "      <td>0</td>\n",
       "    </tr>\n",
       "    <tr>\n",
       "      <th>2778</th>\n",
       "      <td>3</td>\n",
       "      <td>0.111</td>\n",
       "      <td>0</td>\n",
       "      <td>3</td>\n",
       "      <td>0</td>\n",
       "      <td>0</td>\n",
       "      <td>0</td>\n",
       "      <td>1</td>\n",
       "      <td>0</td>\n",
       "      <td>40.89</td>\n",
       "      <td>0.00</td>\n",
       "      <td>2.18</td>\n",
       "      <td>9.15</td>\n",
       "      <td>11.88</td>\n",
       "      <td>56.0</td>\n",
       "      <td>0</td>\n",
       "    </tr>\n",
       "    <tr>\n",
       "      <th>2779</th>\n",
       "      <td>1</td>\n",
       "      <td>0.118</td>\n",
       "      <td>0</td>\n",
       "      <td>2</td>\n",
       "      <td>0</td>\n",
       "      <td>0</td>\n",
       "      <td>1</td>\n",
       "      <td>0</td>\n",
       "      <td>1</td>\n",
       "      <td>15.47</td>\n",
       "      <td>32.82</td>\n",
       "      <td>6.23</td>\n",
       "      <td>19.01</td>\n",
       "      <td>23.50</td>\n",
       "      <td>56.0</td>\n",
       "      <td>0</td>\n",
       "    </tr>\n",
       "    <tr>\n",
       "      <th>2780</th>\n",
       "      <td>1</td>\n",
       "      <td>0.118</td>\n",
       "      <td>0</td>\n",
       "      <td>1</td>\n",
       "      <td>0</td>\n",
       "      <td>0</td>\n",
       "      <td>1</td>\n",
       "      <td>1</td>\n",
       "      <td>1</td>\n",
       "      <td>11.96</td>\n",
       "      <td>37.67</td>\n",
       "      <td>6.86</td>\n",
       "      <td>21.13</td>\n",
       "      <td>19.10</td>\n",
       "      <td>56.0</td>\n",
       "      <td>0</td>\n",
       "    </tr>\n",
       "    <tr>\n",
       "      <th>2782</th>\n",
       "      <td>3</td>\n",
       "      <td>0.141</td>\n",
       "      <td>2</td>\n",
       "      <td>3</td>\n",
       "      <td>0</td>\n",
       "      <td>0</td>\n",
       "      <td>0</td>\n",
       "      <td>1</td>\n",
       "      <td>0</td>\n",
       "      <td>60.46</td>\n",
       "      <td>0.00</td>\n",
       "      <td>2.35</td>\n",
       "      <td>9.04</td>\n",
       "      <td>11.82</td>\n",
       "      <td>56.0</td>\n",
       "      <td>0</td>\n",
       "    </tr>\n",
       "  </tbody>\n",
       "</table>\n",
       "<p>2782 rows × 16 columns</p>\n",
       "</div>"
      ],
      "text/plain": [
       "      Species  Light_ISF  Light_Cat  Soil  Sterile  Conspecific  Myco  \\\n",
       "0           0      0.106          0     0        0            0     0   \n",
       "1           1      0.106          0     1        0            0     1   \n",
       "2           2      0.106          0     0        0            0     1   \n",
       "3           0      0.080          0     0        0            0     0   \n",
       "4           0      0.060          1     0        0            0     0   \n",
       "...       ...        ...        ...   ...      ...          ...   ...   \n",
       "2777        1      0.122          2     1        0            0     1   \n",
       "2778        3      0.111          0     3        0            0     0   \n",
       "2779        1      0.118          0     2        0            0     1   \n",
       "2780        1      0.118          0     1        0            0     1   \n",
       "2782        3      0.141          2     3        0            0     0   \n",
       "\n",
       "      SoilMyco  PlantDate    AMF    EMF  Phenolics  Lignin    NSC   Time Alive  \n",
       "0            0          0  22.00   0.00       0.79   13.86  12.15   14.0     0  \n",
       "1            1          1  15.82  31.07       6.54   20.52  19.29  115.5     2  \n",
       "2            0          1  24.45  28.19       4.71   24.74  15.01   63.0     0  \n",
       "3            0          0  22.23   0.00       0.64   14.29  12.36   14.0     0  \n",
       "4            0          0  21.15   0.00       0.77   10.85  11.20   14.0     0  \n",
       "...        ...        ...    ...    ...        ...     ...    ...    ...   ...  \n",
       "2777         1          1  10.89  39.00       6.88   21.44  18.99   56.0     0  \n",
       "2778         1          0  40.89   0.00       2.18    9.15  11.88   56.0     0  \n",
       "2779         0          1  15.47  32.82       6.23   19.01  23.50   56.0     0  \n",
       "2780         1          1  11.96  37.67       6.86   21.13  19.10   56.0     0  \n",
       "2782         1          0  60.46   0.00       2.35    9.04  11.82   56.0     0  \n",
       "\n",
       "[2782 rows x 16 columns]"
      ]
     },
     "metadata": {},
     "output_type": "display_data"
    }
   ],
   "source": [
    "### 분석 결과를 바탕으로 드랍할 컬럼 설정\n",
    "drop_cols = ['No', 'Plot', 'Adult', 'Subplot', 'Core', 'Census']\n",
    "dp.set_drop_cols(drop_cols)\n",
    "\n",
    "### 전처리 과정 실행 \n",
    "# (데이터 드랍 -> 이상치 처리 -> 결측치 처리 -> 날짜값 통일 -> 라벨 데이터 통합 -> 인코딩)\n",
    "\n",
    "encode = dp.run(encoding='label', return_anomaly=False)\n",
    "display(encode)"
   ]
  },
  {
   "cell_type": "markdown",
   "id": "f437cafb",
   "metadata": {},
   "source": [
    "### Cox 모델을 이용한 생존율 예측\n",
    "  \n",
    "##### Cox 모델이란?\n",
    "t 시간 후의 생존율을 계산할 때, Event(사망)이 발생했는지 여부를 통해 계산함.\n",
    "  \n",
    "위험 점수를 통해 생존율을 예측하고, 해당 값을 이진 분류하여 정확도를 체크할 수 있음\n",
    "\n",
    "##### Cox-XGBoost\n",
    "X를 입력, y를 출력하는 기존 모델의 형태와 달리, X(특성), y(시간)을 입력값으로 받아 e(이벤트 발생 여부)에 관한 정보를 출력하는 모델이다.\n"
   ]
  },
  {
   "cell_type": "code",
   "execution_count": 45,
   "id": "90649db6",
   "metadata": {},
   "outputs": [],
   "source": [
    "### 인코딩된 데이터를 X, y, e로 분할\n",
    "\n",
    "# (X, y, e), (X, y, e)\n",
    "# X : features, y : Event가 발생한 시간, e : Event (사망 - 0, 생존한 상태로 관측 종료 - 1)\n",
    "train_set, test_set = DataModify.split_data_X_y_e(encode, random_state=42)"
   ]
  },
  {
   "cell_type": "code",
   "execution_count": 46,
   "id": "a2774991",
   "metadata": {},
   "outputs": [
    {
     "name": "stdout",
     "output_type": "stream",
     "text": [
      "train score : 0.7042696629213483, test score : 0.6822262118491921\n"
     ]
    }
   ],
   "source": [
    "### Cox 모형을 기반으로 한 XGBoost 모델\n",
    "xgb_cox = TreeXGBoostCox()\n",
    "\n",
    "# 모델 학습\n",
    "xgb_cox.fit(*train_set)\n",
    "\n",
    "# 모델 평가\n",
    "train_score = xgb_cox.score(*train_set, t=115.5)\n",
    "test_score = xgb_cox.score(*test_set, t=115.5)\n",
    "\n",
    "print(f'train score : {train_score}, test score : {test_score}')"
   ]
  },
  {
   "cell_type": "code",
   "execution_count": 47,
   "id": "1a08b899",
   "metadata": {},
   "outputs": [
    {
     "name": "stdout",
     "output_type": "stream",
     "text": [
      "{'Accuracy': np.float64(0.6822262118491921), 'Precision': np.float64(0.6821705426356589), 'Recall': np.float64(0.8301886792452831)}\n",
      "[[116 123]\n",
      " [ 54 264]]\n"
     ]
    }
   ],
   "source": [
    "### confusion matrix\n",
    "\n",
    "# t = 115.5 일 때의 예측 결과에 대한 confusion matrix 반환\n",
    "conf_ = xgb_cox.confusion_matrix(*test_set, t=115.5)\n",
    "\n",
    "print(ModelAnalysis.calculate_metrics(conf_))\n",
    "\n",
    "print(conf_)"
   ]
  },
  {
   "cell_type": "code",
   "execution_count": 60,
   "id": "3aa075b2",
   "metadata": {},
   "outputs": [
    {
     "name": "stdout",
     "output_type": "stream",
     "text": [
      "train score : 0.8408988764044943, test score : 0.7630161579892281\n"
     ]
    }
   ],
   "source": [
    "### Cox 모형을 기반으로 한 RandomForest 모델\n",
    "rsf = TreeRandomForestSurvival()\n",
    "\n",
    "# 모델 학습\n",
    "rsf.fit(*train_set)\n",
    "\n",
    "# 모델 평가\n",
    "train_score = rsf.score(*train_set, t=115.5)\n",
    "test_score = rsf.score(*test_set, t=115.5)\n",
    "\n",
    "print(f'train score : {train_score}, test score : {test_score}')"
   ]
  },
  {
   "cell_type": "code",
   "execution_count": 61,
   "id": "b706bb17",
   "metadata": {},
   "outputs": [],
   "source": [
    "def rsf_score_over_time(rsf, test_set, t_max, n_points=100):\n",
    "\n",
    "    t_values = np.linspace(0, t_max, n_points)\n",
    "    scores = [rsf.score(*test_set, t=t)*100 for t in t_values]\n",
    "\n",
    "    plt.figure(figsize=(8,5))\n",
    "    plt.plot(t_values, scores, color='blue', lw=2, label=\"Score over Time\")\n",
    "    plt.xlabel(\"Time\")\n",
    "    plt.ylabel(\"Score\")\n",
    "    plt.ylim(0, 100)\n",
    "    plt.title(\"RSF Score vs Time\")\n",
    "    plt.grid(True)\n",
    "    plt.legend()\n",
    "    plt.show()\n"
   ]
  },
  {
   "cell_type": "code",
   "execution_count": 62,
   "id": "c2ccc390",
   "metadata": {},
   "outputs": [
    {
     "data": {
      "image/png": "[encoded data removed]",
      "text/plain": [
       "<Figure size 800x500 with 1 Axes>"
      ]
     },
     "metadata": {},
     "output_type": "display_data"
    }
   ],
   "source": [
    "rsf_score_over_time(rsf, test_set, t_max=115.5, n_points=100)\n"
   ]
  },
  {
   "cell_type": "code",
   "execution_count": 51,
   "id": "c10fa53d",
   "metadata": {},
   "outputs": [
    {
     "name": "stdout",
     "output_type": "stream",
     "text": [
      "{'Accuracy': np.float64(0.7504488330341114), 'Precision': np.float64(0.7336814621409922), 'Recall': np.float64(0.8836477987421384)}\n",
      "[[137 102]\n",
      " [ 37 281]]\n"
     ]
    }
   ],
   "source": [
    "### confusion matrix\n",
    "\n",
    "# t = 115.5 일 때의 예측 결과에 대한 confusion matrix 반환\n",
    "conf_ = rsf.confusion_matrix(*test_set, t=115.5)\n",
    "\n",
    "print(ModelAnalysis.calculate_metrics(conf_))\n",
    "\n",
    "print(conf_)"
   ]
  },
  {
   "cell_type": "code",
   "execution_count": 52,
   "id": "804f2d84",
   "metadata": {},
   "outputs": [],
   "source": [
    "### KFold를 기반으로 한 Cox-XGBoost 모델 테스트\n",
    "\n",
    "kfold = KFold(n_splits=5, shuffle=True, random_state=42)\n",
    "\n",
    "cv_accuracy = []\n",
    "\n",
    "for train, validation in kfold.split(train_set[0]) :\n",
    "    X, y, e = train_set\n",
    "\n",
    "    X_train, y_train, e_train = X.iloc[train], y.iloc[train], e.iloc[train]\n",
    "    X_val, y_val, e_val = X.iloc[validation], y.iloc[validation], e.iloc[validation]\n",
    "\n",
    "    xgb_cox.fit(X_train, y_train, e_train)\n",
    "    conf_ = xgb_cox.confusion_matrix(X_val, y_val, e_val, t=115.5)\n",
    "\n",
    "    cv_accuracy.append(ModelAnalysis.calculate_metrics(conf_))\n",
    "\n"
   ]
  },
  {
   "cell_type": "code",
   "execution_count": 53,
   "id": "a6c1e51a",
   "metadata": {},
   "outputs": [
    {
     "data": {
      "text/plain": [
       "Accuracy     0.693034\n",
       "Precision    0.683833\n",
       "Recall       0.863774\n",
       "dtype: float64"
      ]
     },
     "execution_count": 53,
     "metadata": {},
     "output_type": "execute_result"
    }
   ],
   "source": [
    "cv_df = pd.DataFrame(cv_accuracy)\n",
    "\n",
    "cv_df.mean()\n"
   ]
  },
  {
   "cell_type": "code",
   "execution_count": 54,
   "id": "c17e7698",
   "metadata": {},
   "outputs": [],
   "source": [
    "### KFold를 기반으로 한 RandomSurvivalForest 모델 테스트\n",
    "\n",
    "kfold = KFold(n_splits=5, shuffle=True, random_state=42)\n",
    "\n",
    "cv_accuracy = []\n",
    "\n",
    "for train, validation in kfold.split(train_set[0]) :\n",
    "    X, y, e = train_set\n",
    "\n",
    "    X_train, y_train, e_train = X.iloc[train], y.iloc[train], e.iloc[train]\n",
    "    X_val, y_val, e_val = X.iloc[validation], y.iloc[validation], e.iloc[validation]\n",
    "\n",
    "    rsf.fit(X_train, y_train, e_train)\n",
    "    conf_ = rsf.confusion_matrix(X_val, y_val, e_val, t=115.5)\n",
    "\n",
    "    cv_accuracy.append(ModelAnalysis.calculate_metrics(conf_))\n",
    "\n"
   ]
  },
  {
   "cell_type": "code",
   "execution_count": 55,
   "id": "39c1e578",
   "metadata": {},
   "outputs": [
    {
     "data": {
      "text/plain": [
       "Accuracy     0.744270\n",
       "Precision    0.730587\n",
       "Recall       0.874830\n",
       "dtype: float64"
      ]
     },
     "execution_count": 55,
     "metadata": {},
     "output_type": "execute_result"
    }
   ],
   "source": [
    "cv_df = pd.DataFrame(cv_accuracy)\n",
    "\n",
    "cv_df.mean()"
   ]
  },
  {
   "cell_type": "code",
   "execution_count": 56,
   "id": "0e44188c",
   "metadata": {},
   "outputs": [],
   "source": [
    "X_train, y, e = train_set\n",
    "\n",
    "y_train = pd.DataFrame({'Time': y, 'Alive': e})\n",
    "\n",
    "\n",
    "X_test, y, e = test_set\n",
    "\n",
    "y_test = pd.DataFrame({'Time': y, 'Alive': e})\n"
   ]
  },
  {
   "cell_type": "code",
   "execution_count": 57,
   "id": "043d2328",
   "metadata": {},
   "outputs": [],
   "source": [
    "from sklearn.model_selection import GridSearchCV\n",
    "\n",
    "rsf = TreeRandomForestSurvival()\n",
    "\n",
    "params = {\n",
    "    'n_estimators' : [10, 50, 100],\n",
    "    'max_depth' : range(1,6), \n",
    "    'min_samples_split' : range(1, 4),\n",
    "    'min_samples_leaf' : range(1, 4)\n",
    "}\n",
    "\n",
    "\n",
    "# grid = GridSearchCV(rsf, params, cv=3)\n",
    "\n",
    "# grid.fit(X_train, y_train)\n",
    "\n",
    "# print(\"최적의 파라미터 : \", grid.best_params_)\n",
    "# print(\"최적화된 모델 객체 : \", grid.best_estimator_)\n",
    "# print(\"최적화된 점수 : \", grid.best_score_)"
   ]
  }
 ],
 "metadata": {
  "kernelspec": {
   "display_name": "ml_env",
   "language": "python",
   "name": "python3"
  },
  "language_info": {
   "codemirror_mode": {
    "name": "ipython",
    "version": 3
   },
   "file_extension": ".py",
   "mimetype": "text/x-python",
   "name": "python",
   "nbconvert_exporter": "python",
   "pygments_lexer": "ipython3",
   "version": "3.12.11"
  }
 },
 "nbformat": 4,
 "nbformat_minor": 5
}
