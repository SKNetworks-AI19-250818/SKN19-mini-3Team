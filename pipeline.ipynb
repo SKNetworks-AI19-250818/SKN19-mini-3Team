{
 "cells": [
  {
   "cell_type": "markdown",
   "id": "f56ec897",
   "metadata": {},
   "source": [
    "### 1. 입력 데이터 로드 및 처리"
   ]
  },
  {
   "cell_type": "markdown",
   "id": "e61678e2",
   "metadata": {
    "vscode": {
     "languageId": "plaintext"
    }
   },
   "source": [
    "### 2. 기존 모델 구현 및 평가\n",
    "- Logistic Regression\n",
    "- Random Forest\n",
    "- XGBoost\n",
    "\n",
    "구현 후 각 모델 평가 및 결과 분석"
   ]
  },
  {
   "cell_type": "markdown",
   "id": "56d59838",
   "metadata": {},
   "source": [
    "### 3. 기존 모델의 한계 및 새로운 모델 기획\n",
    "- 기존 모델은 관측 종료 시점(해당 데이터에서는 115.5일 후)에서의 생존 여부만 예측 가능\n",
    "- 실무에서는 다양한 시기의 생존율을 예측해야할 필요가 있고, 또한 적은 데이터만을 가지고 예측하기도 해야함\n",
    "    - 1. 모델의 일부 특성만을 이용한 모델 구현 (특성 선택 이용)\n",
    "    - 2. 생존율을 시간에 따라 예측할 수 있는 모델 구현"
   ]
  },
  {
   "cell_type": "markdown",
   "id": "66c2b045",
   "metadata": {
    "vscode": {
     "languageId": "plaintext"
    }
   },
   "source": [
    "### 4. 시간에 따른 생존율을 예측하는 모델 구현 및 평가\n",
    "- XGBoost with Cox\n",
    "- Random Survival Forest\n",
    "\n",
    "RSF가 좋은 성능을 보임\n",
    "\n",
    "- 위 모델을 기반으로 생존 확률 그래프, 혼동 행렬 등등 출력하고 모델 평가 및 결과 분석"
   ]
  },
  {
   "cell_type": "markdown",
   "id": "042ff6f2",
   "metadata": {},
   "source": [
    "### 시간 남으면 할 수 있는 것\n",
    "\n",
    "Oversamplig을 통한 데이터 비율 통일\n",
    "Random Survival Forest와 기존 Random Forest를 결합하여 더 정확도 높은 모델을 생성"
   ]
  }
 ],
 "metadata": {
  "language_info": {
   "name": "python"
  }
 },
 "nbformat": 4,
 "nbformat_minor": 5
}
