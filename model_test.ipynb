{
 "cells": [
  {
   "cell_type": "code",
   "execution_count": null,
   "id": "361b0e16",
   "metadata": {},
   "outputs": [],
   "source": [
    "# 모델 분석에 필요한 라이브러리 import\n",
    "\n",
    "import numpy as np\n",
    "import pandas as pd\n",
    "import matplotlib.pyplot as plt\n",
    "import seaborn as sns\n",
    "\n",
    "from matplotlib import rcParams\n",
    "import platform\n",
    "\n",
    "from sklearn.preprocessing import StandardScaler\n",
    "from sklearn.model_selection import train_test_split\n",
    "from sklearn.ensemble import IsolationForest\n",
    "\n",
    "# 모듈로 구현한 데이터 분석용 클래스 import \n",
    "from modules.DataAnalysis import DataCheck\n",
    "from modules.DataAnalysis import DataPreprocessing\n",
    "from modules.DataAnalysis import DataVisualize\n",
    "import modules.DataModify"
   ]
  },
  {
   "cell_type": "code",
   "execution_count": 6,
   "id": "0b97f50e",
   "metadata": {},
   "outputs": [],
   "source": [
    "### 데이터 로드\n",
    "\n",
    "input_file_path = './data/Tree_data.csv'\n",
    "\n",
    "df = pd.read_csv(input_file_path)\n",
    "\n",
    "### 객체 인스턴스 생성\n",
    "dc = DataCheck(df)\n",
    "dp = DataPreprocessing(df)\n",
    "dv = DataVisualize(df)"
   ]
  },
  {
   "cell_type": "code",
   "execution_count": 7,
   "id": "7f46b1b7",
   "metadata": {},
   "outputs": [],
   "source": [
    "encode = dp.run(encoding='label', return_anomaly=False)"
   ]
  },
  {
   "cell_type": "code",
   "execution_count": 9,
   "id": "36941f8b",
   "metadata": {},
   "outputs": [
    {
     "name": "stdout",
     "output_type": "stream",
     "text": [
      "Alive\n",
      "0    1652\n",
      "2     671\n",
      "Name: count, dtype: int64\n"
     ]
    }
   ],
   "source": [
    "alive_data = encode[encode['Alive'] != 1]\n",
    "censored_data = encode[encode['Alive'] == 1]\n",
    "\n",
    "train_set, test_set = DataModify.train_test_split_ignore_censored(alive_data, censored_data)\n",
    "\n",
    "# (train_set[0] : X_train, train_set[1] : y_train, test_set[0] : X_test, test_set[1] : y_test)\n",
    "\n",
    "print(train_set[1].value_counts())"
   ]
  },
  {
   "cell_type": "code",
   "execution_count": null,
   "id": "cce9d4dc",
   "metadata": {},
   "outputs": [],
   "source": []
  }
 ],
 "metadata": {
  "kernelspec": {
   "display_name": "ml_env",
   "language": "python",
   "name": "python3"
  },
  "language_info": {
   "codemirror_mode": {
    "name": "ipython",
    "version": 3
   },
   "file_extension": ".py",
   "mimetype": "text/x-python",
   "name": "python",
   "nbconvert_exporter": "python",
   "pygments_lexer": "ipython3",
   "version": "3.12.11"
  }
 },
 "nbformat": 4,
 "nbformat_minor": 5
}
